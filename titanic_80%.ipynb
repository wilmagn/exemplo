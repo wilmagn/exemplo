{
 "cells": [
  {
   "cell_type": "code",
   "execution_count": 20,
   "metadata": {},
   "outputs": [],
   "source": [
    "import numpy as np\n",
    "import pandas as pd\n",
    "import re\n",
    "import math\n",
    "import matplotlib.pyplot as plt\n",
    "from sklearn.base import BaseEstimator, TransformerMixin\n",
    "from sklearn.metrics import accuracy_score\n",
    "from sklearn.model_selection import cross_val_score\n",
    "from sklearn.pipeline import FeatureUnion\n",
    "from sklearn.pipeline import Pipeline\n",
    "from sklearn.preprocessing import OneHotEncoder\n",
    "from sklearn.preprocessing import StandardScaler\n",
    "from sklearn.tree import DecisionTreeRegressor\n",
    "from sklearn.linear_model import LinearRegression\n",
    "from sklearn.ensemble import RandomForestRegressor\n",
    "from sklearn.model_selection import GridSearchCV\n",
    "from sklearn.linear_model import SGDClassifier\n",
    "from sklearn import neighbors, datasets\n",
    "from sklearn import svm\n",
    "import xgboost as xgb\n",
    "from sklearn.model_selection import cross_val_predict\n",
    "from sklearn.metrics import confusion_matrix\n",
    "from sklearn.metrics import precision_score, recall_score\n",
    "from sklearn.metrics import f1_score\n",
    "from sklearn.metrics import precision_recall_curve\n",
    "from sklearn.metrics import roc_curve\n",
    "from sklearn.metrics import roc_auc_score\n",
    "from sklearn.model_selection import StratifiedShuffleSplit"
   ]
  },
  {
   "cell_type": "code",
   "execution_count": 21,
   "metadata": {},
   "outputs": [],
   "source": [
    "# Create a class to select numerical or categorical columns \n",
    "# since Scikit-Learn doesn't handle DataFrames yet\n",
    "class DataFrameSelector(BaseEstimator, TransformerMixin):\n",
    "\n",
    "    def __init__(self, attribute_names):\n",
    "        self.attribute_names = attribute_names\n",
    "\n",
    "    def fit(self, X, y=None):\n",
    "        return self\n",
    "\n",
    "    def transform(self, X):\n",
    "        return X[self.attribute_names].values"
   ]
  },
  {
   "cell_type": "code",
   "execution_count": 22,
   "metadata": {},
   "outputs": [],
   "source": [
    "class Preencher_vazios(BaseEstimator, TransformerMixin):\n",
    "\n",
    "    def __init__(self, values):\n",
    "        self.values = values\n",
    "\n",
    "    def fit(self, X, y=None):\n",
    "        return self\n",
    "\n",
    "    def transform(self, X):\n",
    "        # values = {'Age': train['Age'].median(),'Cabin':'C1000','Embarked':'X'}\n",
    "        X.fillna(value=self.values, inplace = True)        \n",
    "        return X"
   ]
  },
  {
   "cell_type": "code",
   "execution_count": 23,
   "metadata": {},
   "outputs": [],
   "source": [
    "class Transformar_categoricos(BaseEstimator, TransformerMixin):\n",
    "\n",
    "    def fit(self, X, y=None):\n",
    "        return self\n",
    "\n",
    "    def transform(self, X):\n",
    "        X = X.apply(lambda x: pd.factorize(x)[0])        \n",
    "        return X"
   ]
  },
  {
   "cell_type": "code",
   "execution_count": 24,
   "metadata": {},
   "outputs": [],
   "source": [
    "def zero_um(matriz):\n",
    "    matriz[np.where(matriz<=0.50)] = 0\n",
    "    matriz[np.where(matriz>0.50)] = 1\n",
    "    return matriz"
   ]
  },
  {
   "cell_type": "code",
   "execution_count": 25,
   "metadata": {},
   "outputs": [],
   "source": [
    "def display_scores(scores):\n",
    "    print(\"Scores:\", scores)\n",
    "    print(\"Mean:\", scores.mean())\n",
    "    print(\"Standard deviation:\", scores.std())"
   ]
  },
  {
   "cell_type": "code",
   "execution_count": 26,
   "metadata": {},
   "outputs": [],
   "source": [
    "def plot_precision_recall_vs_threshold(precisions, recalls, thresholds):\n",
    "    plt.plot(thresholds, precisions[:-1], \"b--\", label=\"Precision\")\n",
    "    plt.plot(thresholds, recalls[:-1], \"g-\", label=\"Recall\")\n",
    "    plt.xlabel(\"Threshold\")\n",
    "    plt.legend(loc=\"upper left\")\n",
    "    plt.ylim([0, 1])\n",
    "    #plt.xlim([0, 1])"
   ]
  },
  {
   "cell_type": "code",
   "execution_count": 27,
   "metadata": {},
   "outputs": [],
   "source": [
    "def plot_roc_curve(fpr, tpr, label=None):\n",
    "    plt.plot(fpr, tpr, linewidth=2, label=label)\n",
    "    plt.plot([0, 1], [0, 1], 'k--')\n",
    "    plt.axis([0, 1, 0, 1])\n",
    "    plt.xlabel('False Positive Rate')\n",
    "    plt.ylabel('True Positive Rate')"
   ]
  },
  {
   "cell_type": "code",
   "execution_count": 28,
   "metadata": {},
   "outputs": [],
   "source": [
    "train = pd.read_csv('train.csv')\n",
    "test_set = pd.read_csv('test.csv')"
   ]
  },
  {
   "cell_type": "code",
   "execution_count": 29,
   "metadata": {},
   "outputs": [
    {
     "data": {
      "text/html": [
       "<div>\n",
       "<style scoped>\n",
       "    .dataframe tbody tr th:only-of-type {\n",
       "        vertical-align: middle;\n",
       "    }\n",
       "\n",
       "    .dataframe tbody tr th {\n",
       "        vertical-align: top;\n",
       "    }\n",
       "\n",
       "    .dataframe thead th {\n",
       "        text-align: right;\n",
       "    }\n",
       "</style>\n",
       "<table border=\"1\" class=\"dataframe\">\n",
       "  <thead>\n",
       "    <tr style=\"text-align: right;\">\n",
       "      <th></th>\n",
       "      <th>PassengerId</th>\n",
       "      <th>Survived</th>\n",
       "      <th>Pclass</th>\n",
       "      <th>Age</th>\n",
       "      <th>SibSp</th>\n",
       "      <th>Parch</th>\n",
       "      <th>Fare</th>\n",
       "    </tr>\n",
       "  </thead>\n",
       "  <tbody>\n",
       "    <tr>\n",
       "      <th>PassengerId</th>\n",
       "      <td>1.000000</td>\n",
       "      <td>-0.005007</td>\n",
       "      <td>-0.035144</td>\n",
       "      <td>0.036847</td>\n",
       "      <td>-0.057527</td>\n",
       "      <td>-0.001652</td>\n",
       "      <td>0.012658</td>\n",
       "    </tr>\n",
       "    <tr>\n",
       "      <th>Survived</th>\n",
       "      <td>-0.005007</td>\n",
       "      <td>1.000000</td>\n",
       "      <td>-0.338481</td>\n",
       "      <td>-0.077221</td>\n",
       "      <td>-0.035322</td>\n",
       "      <td>0.081629</td>\n",
       "      <td>0.257307</td>\n",
       "    </tr>\n",
       "    <tr>\n",
       "      <th>Pclass</th>\n",
       "      <td>-0.035144</td>\n",
       "      <td>-0.338481</td>\n",
       "      <td>1.000000</td>\n",
       "      <td>-0.369226</td>\n",
       "      <td>0.083081</td>\n",
       "      <td>0.018443</td>\n",
       "      <td>-0.549500</td>\n",
       "    </tr>\n",
       "    <tr>\n",
       "      <th>Age</th>\n",
       "      <td>0.036847</td>\n",
       "      <td>-0.077221</td>\n",
       "      <td>-0.369226</td>\n",
       "      <td>1.000000</td>\n",
       "      <td>-0.308247</td>\n",
       "      <td>-0.189119</td>\n",
       "      <td>0.096067</td>\n",
       "    </tr>\n",
       "    <tr>\n",
       "      <th>SibSp</th>\n",
       "      <td>-0.057527</td>\n",
       "      <td>-0.035322</td>\n",
       "      <td>0.083081</td>\n",
       "      <td>-0.308247</td>\n",
       "      <td>1.000000</td>\n",
       "      <td>0.414838</td>\n",
       "      <td>0.159651</td>\n",
       "    </tr>\n",
       "    <tr>\n",
       "      <th>Parch</th>\n",
       "      <td>-0.001652</td>\n",
       "      <td>0.081629</td>\n",
       "      <td>0.018443</td>\n",
       "      <td>-0.189119</td>\n",
       "      <td>0.414838</td>\n",
       "      <td>1.000000</td>\n",
       "      <td>0.216225</td>\n",
       "    </tr>\n",
       "    <tr>\n",
       "      <th>Fare</th>\n",
       "      <td>0.012658</td>\n",
       "      <td>0.257307</td>\n",
       "      <td>-0.549500</td>\n",
       "      <td>0.096067</td>\n",
       "      <td>0.159651</td>\n",
       "      <td>0.216225</td>\n",
       "      <td>1.000000</td>\n",
       "    </tr>\n",
       "  </tbody>\n",
       "</table>\n",
       "</div>"
      ],
      "text/plain": [
       "             PassengerId  Survived    Pclass       Age     SibSp     Parch  \\\n",
       "PassengerId     1.000000 -0.005007 -0.035144  0.036847 -0.057527 -0.001652   \n",
       "Survived       -0.005007  1.000000 -0.338481 -0.077221 -0.035322  0.081629   \n",
       "Pclass         -0.035144 -0.338481  1.000000 -0.369226  0.083081  0.018443   \n",
       "Age             0.036847 -0.077221 -0.369226  1.000000 -0.308247 -0.189119   \n",
       "SibSp          -0.057527 -0.035322  0.083081 -0.308247  1.000000  0.414838   \n",
       "Parch          -0.001652  0.081629  0.018443 -0.189119  0.414838  1.000000   \n",
       "Fare            0.012658  0.257307 -0.549500  0.096067  0.159651  0.216225   \n",
       "\n",
       "                 Fare  \n",
       "PassengerId  0.012658  \n",
       "Survived     0.257307  \n",
       "Pclass      -0.549500  \n",
       "Age          0.096067  \n",
       "SibSp        0.159651  \n",
       "Parch        0.216225  \n",
       "Fare         1.000000  "
      ]
     },
     "execution_count": 29,
     "metadata": {},
     "output_type": "execute_result"
    }
   ],
   "source": [
    "train.corr()"
   ]
  },
  {
   "cell_type": "code",
   "execution_count": 30,
   "metadata": {},
   "outputs": [
    {
     "data": {
      "text/html": [
       "<div>\n",
       "<style scoped>\n",
       "    .dataframe tbody tr th:only-of-type {\n",
       "        vertical-align: middle;\n",
       "    }\n",
       "\n",
       "    .dataframe tbody tr th {\n",
       "        vertical-align: top;\n",
       "    }\n",
       "\n",
       "    .dataframe thead th {\n",
       "        text-align: right;\n",
       "    }\n",
       "</style>\n",
       "<table border=\"1\" class=\"dataframe\">\n",
       "  <thead>\n",
       "    <tr style=\"text-align: right;\">\n",
       "      <th></th>\n",
       "      <th>PassengerId</th>\n",
       "      <th>Pclass</th>\n",
       "      <th>Age</th>\n",
       "      <th>SibSp</th>\n",
       "      <th>Parch</th>\n",
       "      <th>Fare</th>\n",
       "    </tr>\n",
       "  </thead>\n",
       "  <tbody>\n",
       "    <tr>\n",
       "      <th>PassengerId</th>\n",
       "      <td>1.000000</td>\n",
       "      <td>-0.026751</td>\n",
       "      <td>-0.034102</td>\n",
       "      <td>0.003818</td>\n",
       "      <td>0.043080</td>\n",
       "      <td>0.008211</td>\n",
       "    </tr>\n",
       "    <tr>\n",
       "      <th>Pclass</th>\n",
       "      <td>-0.026751</td>\n",
       "      <td>1.000000</td>\n",
       "      <td>-0.492143</td>\n",
       "      <td>0.001087</td>\n",
       "      <td>0.018721</td>\n",
       "      <td>-0.577147</td>\n",
       "    </tr>\n",
       "    <tr>\n",
       "      <th>Age</th>\n",
       "      <td>-0.034102</td>\n",
       "      <td>-0.492143</td>\n",
       "      <td>1.000000</td>\n",
       "      <td>-0.091587</td>\n",
       "      <td>-0.061249</td>\n",
       "      <td>0.337932</td>\n",
       "    </tr>\n",
       "    <tr>\n",
       "      <th>SibSp</th>\n",
       "      <td>0.003818</td>\n",
       "      <td>0.001087</td>\n",
       "      <td>-0.091587</td>\n",
       "      <td>1.000000</td>\n",
       "      <td>0.306895</td>\n",
       "      <td>0.171539</td>\n",
       "    </tr>\n",
       "    <tr>\n",
       "      <th>Parch</th>\n",
       "      <td>0.043080</td>\n",
       "      <td>0.018721</td>\n",
       "      <td>-0.061249</td>\n",
       "      <td>0.306895</td>\n",
       "      <td>1.000000</td>\n",
       "      <td>0.230046</td>\n",
       "    </tr>\n",
       "    <tr>\n",
       "      <th>Fare</th>\n",
       "      <td>0.008211</td>\n",
       "      <td>-0.577147</td>\n",
       "      <td>0.337932</td>\n",
       "      <td>0.171539</td>\n",
       "      <td>0.230046</td>\n",
       "      <td>1.000000</td>\n",
       "    </tr>\n",
       "  </tbody>\n",
       "</table>\n",
       "</div>"
      ],
      "text/plain": [
       "             PassengerId    Pclass       Age     SibSp     Parch      Fare\n",
       "PassengerId     1.000000 -0.026751 -0.034102  0.003818  0.043080  0.008211\n",
       "Pclass         -0.026751  1.000000 -0.492143  0.001087  0.018721 -0.577147\n",
       "Age            -0.034102 -0.492143  1.000000 -0.091587 -0.061249  0.337932\n",
       "SibSp           0.003818  0.001087 -0.091587  1.000000  0.306895  0.171539\n",
       "Parch           0.043080  0.018721 -0.061249  0.306895  1.000000  0.230046\n",
       "Fare            0.008211 -0.577147  0.337932  0.171539  0.230046  1.000000"
      ]
     },
     "execution_count": 30,
     "metadata": {},
     "output_type": "execute_result"
    }
   ],
   "source": [
    "test_set.corr()"
   ]
  },
  {
   "cell_type": "code",
   "execution_count": 31,
   "metadata": {},
   "outputs": [],
   "source": [
    "train = train.set_index('PassengerId')\n",
    "test_set = test_set.set_index('PassengerId')\n",
    "\n",
    "lista_index_train = train.index.tolist()\n",
    "lista_index_test_set = test_set.index.tolist()\n",
    "\n",
    "todos = pd.concat([train,test_set],axis=0)\n",
    "\n",
    "test_set = todos.loc[lista_index_test_set].reset_index()\n",
    "todos = todos.reset_index()\n",
    "\n",
    "train_label = train['Survived']\n",
    "train_set = todos.loc[lista_index_train].drop('Survived', axis=1)"
   ]
  },
  {
   "cell_type": "code",
   "execution_count": 32,
   "metadata": {},
   "outputs": [],
   "source": [
    "#for index, row in todos.iterrows():\n",
    "#    print (type(todos.iloc[index]['Name']))"
   ]
  },
  {
   "cell_type": "code",
   "execution_count": 33,
   "metadata": {},
   "outputs": [],
   "source": [
    "l = list()\n",
    "todos['Name_3'] = \"\"\n",
    "for index, row in todos.iterrows():   \n",
    "    try:\n",
    "        a = float(todos.iloc[index]['Age'])\n",
    "                  \n",
    "        if np.isnan(a):\n",
    "            tipo = 'nan'   \n",
    "        elif not np.isnan(a):\n",
    "            tipo = 'ok'\n",
    "    except:\n",
    "        tipo = 'nan'\n",
    "        \n",
    "    jl = todos.iloc[index]['Name']\n",
    "    c = re.match('(.*?)[\\s]*[\\,][\\s]*', jl)\n",
    "    a = re.match('(.*?)[\\s]*[\\,][\\s]*Mr[\\.\\s].*', jl)\n",
    "    b = re.match('(.*?)[\\s]*[\\,][\\s]*Dr[\\.\\s].*', jl)\n",
    "\n",
    "    d = re.match('(.*?)[\\s]*[\\,][\\s]*Master[\\.\\s].*', jl)    \n",
    "\n",
    "    e = re.match('(.*?)[\\s]*[\\,][\\s]*Miss[\\.\\s].*', jl)\n",
    "    f = re.match('(.*?)[\\s]*[\\,][\\s]*Mrs[\\.\\s].*', jl)\n",
    "    g = re.match('(.*?)[\\s]*[\\,][\\s]*Ms[\\.\\s].*', jl)\n",
    "\n",
    "    h = re.match('(.*?)[\\s]*[\\,][\\s]Rev[\\.\\s].*', jl)\n",
    "\n",
    "    i = re.match('(.*?)[\\s]*[\\,][\\s]*Col[\\.\\s].*', jl)\n",
    "    j = re.match('(.*?)[\\s]*[\\,][\\s]*Major[\\.\\s].*', jl)\n",
    "\n",
    "    if   a: \n",
    "        l.append(0)\n",
    "    elif b:\n",
    "        l.append(0)\n",
    "    elif d:\n",
    "        l.append(2)\n",
    "    elif e:       \n",
    "        l.append(3)\n",
    "    elif f:       \n",
    "        l.append(4)\n",
    "    elif g:       \n",
    "        l.append(5)\n",
    "    elif h:       \n",
    "        l.append(6)\n",
    "    elif i:       \n",
    "        l.append(6)\n",
    "    elif j:       \n",
    "        l.append(6)\n",
    "    else:\n",
    "        l.append(7) \n",
    "    \n",
    "    if c:\n",
    "        todos.at[index, 'Name_3'] = c.group(1)\n",
    "    \n",
    "    \n",
    "    if (a or b  or e or g or h or i or f) and (tipo == 'nan'):\n",
    "        todos.at[index, 'Age'] = 28.\n",
    "        \n",
    "    elif (d) and (tipo == 'nan'):       \n",
    "        todos.at[index, 'Age'] = 4.\n",
    "        \n",
    "    elif (tipo == 'nan'):\n",
    "        todos.at[index, 'Age'] = 28.\n",
    "        \n",
    "todos['Name_2'] = l\n",
    "#todos['Surname'] = sur"
   ]
  },
  {
   "cell_type": "code",
   "execution_count": 34,
   "metadata": {},
   "outputs": [
    {
     "data": {
      "text/html": [
       "<div>\n",
       "<style scoped>\n",
       "    .dataframe tbody tr th:only-of-type {\n",
       "        vertical-align: middle;\n",
       "    }\n",
       "\n",
       "    .dataframe tbody tr th {\n",
       "        vertical-align: top;\n",
       "    }\n",
       "\n",
       "    .dataframe thead th {\n",
       "        text-align: right;\n",
       "    }\n",
       "</style>\n",
       "<table border=\"1\" class=\"dataframe\">\n",
       "  <thead>\n",
       "    <tr style=\"text-align: right;\">\n",
       "      <th></th>\n",
       "      <th>PassengerId</th>\n",
       "      <th>Age</th>\n",
       "      <th>Cabin</th>\n",
       "      <th>Embarked</th>\n",
       "      <th>Fare</th>\n",
       "      <th>Name</th>\n",
       "      <th>Parch</th>\n",
       "      <th>Pclass</th>\n",
       "      <th>Sex</th>\n",
       "      <th>SibSp</th>\n",
       "      <th>Survived</th>\n",
       "      <th>Ticket</th>\n",
       "      <th>Name_3</th>\n",
       "      <th>Name_2</th>\n",
       "    </tr>\n",
       "  </thead>\n",
       "  <tbody>\n",
       "    <tr>\n",
       "      <th>443</th>\n",
       "      <td>444</td>\n",
       "      <td>28.0</td>\n",
       "      <td>NaN</td>\n",
       "      <td>S</td>\n",
       "      <td>13.00</td>\n",
       "      <td>Reynaldo, Ms. Encarnacion</td>\n",
       "      <td>0</td>\n",
       "      <td>2</td>\n",
       "      <td>female</td>\n",
       "      <td>0</td>\n",
       "      <td>1.0</td>\n",
       "      <td>230434</td>\n",
       "      <td>Reynaldo</td>\n",
       "      <td>5</td>\n",
       "    </tr>\n",
       "    <tr>\n",
       "      <th>979</th>\n",
       "      <td>980</td>\n",
       "      <td>28.0</td>\n",
       "      <td>NaN</td>\n",
       "      <td>Q</td>\n",
       "      <td>7.75</td>\n",
       "      <td>O'Donoghue, Ms. Bridget</td>\n",
       "      <td>0</td>\n",
       "      <td>3</td>\n",
       "      <td>female</td>\n",
       "      <td>0</td>\n",
       "      <td>NaN</td>\n",
       "      <td>364856</td>\n",
       "      <td>O'Donoghue</td>\n",
       "      <td>5</td>\n",
       "    </tr>\n",
       "  </tbody>\n",
       "</table>\n",
       "</div>"
      ],
      "text/plain": [
       "     PassengerId   Age Cabin Embarked   Fare                       Name  \\\n",
       "443          444  28.0   NaN        S  13.00  Reynaldo, Ms. Encarnacion   \n",
       "979          980  28.0   NaN        Q   7.75    O'Donoghue, Ms. Bridget   \n",
       "\n",
       "     Parch  Pclass     Sex  SibSp  Survived  Ticket      Name_3  Name_2  \n",
       "443      0       2  female      0       1.0  230434    Reynaldo       5  \n",
       "979      0       3  female      0       NaN  364856  O'Donoghue       5  "
      ]
     },
     "execution_count": 34,
     "metadata": {},
     "output_type": "execute_result"
    }
   ],
   "source": [
    "todos[todos['Name'].str.contains('Ms.')]"
   ]
  },
  {
   "cell_type": "code",
   "execution_count": 35,
   "metadata": {},
   "outputs": [],
   "source": [
    "todos['Cabin_2']= todos['Cabin'].str.extract('(.).*', expand=False)"
   ]
  },
  {
   "cell_type": "code",
   "execution_count": 36,
   "metadata": {},
   "outputs": [],
   "source": [
    "#todos['Cabin_2'].unique()"
   ]
  },
  {
   "cell_type": "code",
   "execution_count": 37,
   "metadata": {},
   "outputs": [],
   "source": [
    "#todos[0:891].groupby(['Name_3','Survived'])['PassengerId'].count()[640:700]"
   ]
  },
  {
   "cell_type": "code",
   "execution_count": 38,
   "metadata": {},
   "outputs": [],
   "source": [
    "count = 0\n",
    "nosurv = 0\n",
    "surv = 0\n",
    "s_ns = list()\n",
    "s_ns_novo = list()\n",
    "c_dict ={}\n",
    "c_dict_baixo ={}\n",
    "c_dict_alto ={}\n",
    "todos['Name_4'] = \"\"\n",
    "for index, row in todos[0:891].iterrows():  \n",
    "    if todos.iloc[index]['Name_3'] not in c_dict.keys():\n",
    "        c_dict[todos.iloc[index]['Name_3']] = [0,0]\n",
    "    \n",
    "    s_ns = c_dict[todos.iloc[index]['Name_3']]\n",
    "    \n",
    "    if todos[0:891].iloc[index]['Survived'] == 0:            \n",
    "        s_ns_novo = [s_ns[0] + 1, s_ns[1]]\n",
    "    elif todos[0:891].iloc[index]['Survived'] == 1: \n",
    "        s_ns_novo = [s_ns[0], s_ns[1] + 1]\n",
    "        \n",
    "    c_dict[todos[0:891].iloc[index]['Name_3']] = s_ns_novo\n",
    "                \n",
    "for count in c_dict.keys():\n",
    "    if sum(c_dict[count]) > 1: # 2 for not overfitting\n",
    "        c_dict_baixo[count] = c_dict[count][1]/sum(c_dict[count])\n",
    "    \n",
    "    if sum(c_dict[count]) > 1:\n",
    "        c_dict_alto[count] = c_dict[count][1]/sum(c_dict[count])\n",
    "\n",
    "    \n",
    "for index, row in todos.iterrows():     \n",
    "    if todos.iloc[index]['Name_3'] in c_dict_baixo and (index < 891):\n",
    "        todos.at[index, 'Name_4'] = c_dict_baixo[todos.iloc[index]['Name_3']]\n",
    "        \n",
    "    elif todos.iloc[index]['Name_3'] in c_dict_alto and (index >= 891):   \n",
    "        todos.at[index, 'Name_4'] = c_dict_alto[todos.iloc[index]['Name_3']]    \n",
    "        \n",
    "    else:\n",
    "            todos.at[index, 'Name_4'] = 0.38\n"
   ]
  },
  {
   "cell_type": "code",
   "execution_count": 39,
   "metadata": {},
   "outputs": [
    {
     "data": {
      "text/plain": [
       "0.3838383838383838"
      ]
     },
     "execution_count": 39,
     "metadata": {},
     "output_type": "execute_result"
    }
   ],
   "source": [
    "#todos[0:891].groupby(['Cabin_2','Survived'])['Survived'].count()\n",
    "len(todos[0:891][todos[0:891]['Survived']==1])/len(todos[0:891])"
   ]
  },
  {
   "cell_type": "code",
   "execution_count": 40,
   "metadata": {},
   "outputs": [
    {
     "data": {
      "text/plain": [
       "(0.4006734006734007, 0.19138755980861244)"
      ]
     },
     "execution_count": 40,
     "metadata": {},
     "output_type": "execute_result"
    }
   ],
   "source": [
    "len(todos[0:891][todos[0:891]['Name_4'] != 0.38])/len(todos[0:891]), len(todos[891:][todos[891:]['Name_4'] != 0.38])/len(todos[891:])"
   ]
  },
  {
   "cell_type": "code",
   "execution_count": 41,
   "metadata": {},
   "outputs": [],
   "source": [
    "\n",
    "todos = todos.drop(['Name_2', 'Name', 'Cabin', 'Ticket'], axis = 1)"
   ]
  },
  {
   "cell_type": "code",
   "execution_count": 42,
   "metadata": {},
   "outputs": [],
   "source": [
    "#todos[880:900]"
   ]
  },
  {
   "cell_type": "code",
   "execution_count": 43,
   "metadata": {},
   "outputs": [],
   "source": [
    "num_attribs = ['Fare', 'Age','Name_4','Parch','SibSp']\n",
    "cat_attribs = ['Pclass','Sex','Embarked']\n",
    "values_num = {'Fare': train_set['Fare'].median()}\n",
    "values_cat = {'Cabin':'X','Cabin_2':'X', 'Embarked' : 'X'}"
   ]
  },
  {
   "cell_type": "markdown",
   "metadata": {},
   "source": [
    "num_attribs = ['Fare', 'Age']\n",
    "cat_attribs = ['Pclass','Sex','Parch','Embarked']\n",
    "#\n",
    "values_num = {'Age': train_set['Age'].median(), 'Fare': train_set['Fare'].median()}\n",
    "values_cat = {'Cabin':'C1000', 'Embarked' : 'X'}"
   ]
  },
  {
   "cell_type": "code",
   "execution_count": 44,
   "metadata": {},
   "outputs": [],
   "source": [
    "num_pipeline = Pipeline([\n",
    "        ('Preencher_vazios', Preencher_vazios(values_num)),\n",
    "        ('pd-np', DataFrameSelector(num_attribs)),\n",
    "        ('std_scaler', StandardScaler()),\n",
    "    ])\n",
    "cat_pipeline = Pipeline([\n",
    "        ('Preencher_vazios', Preencher_vazios(values_cat)),\n",
    "        ('Transformar_categoricos',Transformar_categoricos()),\n",
    "        ('pd-np', DataFrameSelector(cat_attribs)),\n",
    "        ('OneHotEncoder',OneHotEncoder()),\n",
    "    ])\n",
    "\n",
    "full_pipeline = FeatureUnion(transformer_list=[\n",
    "        (\"num_pipeline\", num_pipeline),\n",
    "        (\"cat_pipeline\", cat_pipeline),\n",
    "    ])"
   ]
  },
  {
   "cell_type": "code",
   "execution_count": 1,
   "metadata": {},
   "outputs": [
    {
     "ename": "NameError",
     "evalue": "name 'full_pipeline' is not defined",
     "output_type": "error",
     "traceback": [
      "\u001b[1;31m---------------------------------------------------------------------------\u001b[0m",
      "\u001b[1;31mNameError\u001b[0m                                 Traceback (most recent call last)",
      "\u001b[1;32m<ipython-input-1-3f0a2ab9bc38>\u001b[0m in \u001b[0;36m<module>\u001b[1;34m()\u001b[0m\n\u001b[1;32m----> 1\u001b[1;33m \u001b[0mcat_tr\u001b[0m \u001b[1;33m=\u001b[0m \u001b[0mfull_pipeline\u001b[0m\u001b[1;33m.\u001b[0m\u001b[0mfit_transform\u001b[0m\u001b[1;33m(\u001b[0m\u001b[0mtodos\u001b[0m\u001b[1;33m)\u001b[0m\u001b[1;33m\u001b[0m\u001b[0m\n\u001b[0m\u001b[0;32m      2\u001b[0m \u001b[1;33m\u001b[0m\u001b[0m\n\u001b[0;32m      3\u001b[0m \u001b[0mtrain2\u001b[0m \u001b[1;33m=\u001b[0m \u001b[0mcat_tr\u001b[0m\u001b[1;33m[\u001b[0m\u001b[1;36m0\u001b[0m\u001b[1;33m:\u001b[0m\u001b[1;36m891\u001b[0m\u001b[1;33m]\u001b[0m\u001b[1;33m\u001b[0m\u001b[0m\n\u001b[0;32m      4\u001b[0m \u001b[0mtrain3\u001b[0m \u001b[1;33m=\u001b[0m \u001b[0mcat_tr\u001b[0m\u001b[1;33m[\u001b[0m\u001b[1;36m891\u001b[0m\u001b[1;33m:\u001b[0m\u001b[1;33m]\u001b[0m\u001b[1;33m\u001b[0m\u001b[0m\n",
      "\u001b[1;31mNameError\u001b[0m: name 'full_pipeline' is not defined"
     ]
    }
   ],
   "source": [
    "cat_tr = full_pipeline.fit_transform(todos)\n",
    "\n",
    "train2 = cat_tr[0:891]\n",
    "train3 = cat_tr[891:]"
   ]
  },
  {
   "cell_type": "code",
   "execution_count": 46,
   "metadata": {},
   "outputs": [],
   "source": [
    "#train2.toarray()[:,3]"
   ]
  },
  {
   "cell_type": "code",
   "execution_count": 47,
   "metadata": {},
   "outputs": [
    {
     "name": "stdout",
     "output_type": "stream",
     "text": [
      "0.8698092031425365\n"
     ]
    }
   ],
   "source": [
    "####LinearRegression\n",
    "lin_reg = LinearRegression()\n",
    "\n",
    "lin_reg.fit(train2, train_label[0:891])\n",
    "\n",
    "s = lin_reg.predict(train2)\n",
    "s = zero_um(s)\n",
    "print (accuracy_score(s, train_label[0:891]))\n",
    "\n",
    "t = lin_reg.predict(train3)\n",
    "t = zero_um(t)\n",
    "\n",
    "result_lin = pd.concat([pd.DataFrame(data=t,columns =['Survived']),\n",
    "   test_set['PassengerId'].to_frame()],axis=1).set_index('PassengerId')\\\n",
    "   .astype('int64')\n",
    "\n",
    "res2 = np.array(result_lin)\n",
    "\n",
    "result_lin.to_csv('lin.csv')"
   ]
  },
  {
   "cell_type": "markdown",
   "metadata": {},
   "source": [
    "s = lin_reg.predict(cat_tr[0:870])\n",
    "s = zero_um(s)\n",
    "print (accuracy_score(s, train_label[0:870]))\n"
   ]
  },
  {
   "cell_type": "code",
   "execution_count": 48,
   "metadata": {},
   "outputs": [
    {
     "name": "stdout",
     "output_type": "stream",
     "text": [
      "712\n",
      "0.8379888268156425\n",
      "0.9162011173184358\n"
     ]
    }
   ],
   "source": [
    "val = int(891 * 0.8)\n",
    "print (val)\n",
    "accu = dict()\n",
    "ll = list()\n",
    "for i in range(10):\n",
    "    sh = np.random.permutation(891)\n",
    "    sh1 = list(sh[0:val])\n",
    "    sh2 = list(sh[val:891])\n",
    "    lin_reg2 = LinearRegression()\n",
    "    train22 = cat_tr[sh1]\n",
    "    train_label22 = train_label.iloc[sh1] \n",
    "    lin_reg2.fit(train22, train_label22)\n",
    "    s = lin_reg2.predict(train22)\n",
    "    s = zero_um(s)\n",
    "    accu2 = (accuracy_score(s, train_label22))\n",
    "    train33 = cat_tr[sh2]\n",
    "    s = lin_reg2.predict(train33)\n",
    "    s = zero_um(s)\n",
    "    ll.append((accuracy_score(s, train_label.iloc[sh2])))\n",
    "    dd= ('%.2f%s%.2f' % ((accuracy_score(s\n",
    "                                         , train_label.iloc[sh2])),\" \", accu2) )\n",
    "    accu[i] = (dd)\n",
    "    #print (accu2)\n",
    "#for i in accu.keys():\n",
    "  #  print ('%s%s%s' % (i,\" \",accu[i]))\n",
    "print (min(ll))\n",
    "print (max(ll))\n",
    "\n"
   ]
  },
  {
   "cell_type": "code",
   "execution_count": 49,
   "metadata": {},
   "outputs": [
    {
     "name": "stdout",
     "output_type": "stream",
     "text": [
      "0.9831649831649831\n"
     ]
    }
   ],
   "source": [
    "## RandomForestRegressor\n",
    "#forest_reg = RandomForestRegressor()\n",
    "forest_reg =RandomForestRegressor(bootstrap=True, criterion='mse', max_depth=None,\n",
    "           max_features=8, max_leaf_nodes=None, min_impurity_decrease=0.0,\n",
    "           min_impurity_split=None, min_samples_leaf=1,\n",
    "           min_samples_split=2, min_weight_fraction_leaf=0.0,\n",
    "           n_estimators=700, n_jobs=1, oob_score=False, random_state=None,\n",
    "           verbose=0, warm_start=False)\n",
    "\n",
    "forest_reg.fit(train2, train_label)\n",
    "s = forest_reg.predict(train2)\n",
    "s = zero_um(s)\n",
    "print (accuracy_score(s, train_label))\n",
    "\n",
    "t = forest_reg.predict(train3)\n",
    "t = zero_um(t)\n",
    "\n",
    "result_random_forest = pd.concat([pd.DataFrame(data=t,columns =['Survived']),\n",
    "    test_set['PassengerId'].to_frame()],axis=1).set_index('PassengerId')\\\n",
    "    .astype('int64')\n",
    "\n",
    "result_random_forest.to_csv('random_forest.csv')\n",
    "#res2 = np.hstack([res2, np.array(result_random_forest)])"
   ]
  },
  {
   "cell_type": "code",
   "execution_count": 50,
   "metadata": {},
   "outputs": [
    {
     "name": "stdout",
     "output_type": "stream",
     "text": [
      "0.8653198653198653\n"
     ]
    }
   ],
   "source": [
    "#SGD######################################################################\n",
    "sgd_clf = SGDClassifier(max_iter=1000)\n",
    "sgd_clf.fit(train2, train_label)\n",
    "\n",
    "s = sgd_clf.predict(train2)\n",
    "print (accuracy_score(s, train_label))\n",
    "\n",
    "t = sgd_clf.predict(train3)\n",
    "t = zero_um(t)\n",
    "\n",
    "result_SGD = pd.concat([pd.DataFrame(data=t,columns =['Survived']),\n",
    "    test_set['PassengerId'].to_frame()],axis=1).set_index('PassengerId')\\\n",
    "    .astype('int64')\n",
    "\n",
    "res2 = np.hstack([res2, np.array(result_SGD)])\n",
    "\n",
    "result_SGD.to_csv('SGD.csv')"
   ]
  },
  {
   "cell_type": "code",
   "execution_count": 51,
   "metadata": {},
   "outputs": [
    {
     "name": "stdout",
     "output_type": "stream",
     "text": [
      "Scores: [0.88888889 0.9        0.84269663 0.87640449 0.8988764  0.84269663\n",
      " 0.86516854 0.78651685 0.88764045 0.84090909]\n",
      "Mean: 0.862979797979798\n",
      "Standard deviation: 0.033585734016861345\n"
     ]
    }
   ],
   "source": [
    "scores = cross_val_score(sgd_clf, train2, train_label,\n",
    "     scoring=\"accuracy\", cv=10)\n",
    "\n",
    "display_scores(scores)"
   ]
  },
  {
   "cell_type": "code",
   "execution_count": 52,
   "metadata": {},
   "outputs": [
    {
     "data": {
      "text/plain": [
       "array([[505,  44],\n",
       "       [ 80, 262]], dtype=int64)"
      ]
     },
     "execution_count": 52,
     "metadata": {},
     "output_type": "execute_result"
    }
   ],
   "source": [
    "y_train_pred = cross_val_predict(sgd_clf, train2, train_label, cv=10)\n",
    "conf_mx = confusion_matrix(train_label, y_train_pred)\n",
    "conf_mx"
   ]
  },
  {
   "cell_type": "code",
   "execution_count": 53,
   "metadata": {},
   "outputs": [
    {
     "name": "stdout",
     "output_type": "stream",
     "text": [
      "0.9023569023569024\n"
     ]
    }
   ],
   "source": [
    "knn=neighbors.KNeighborsClassifier()\n",
    "knn.fit(train2, train_label)\n",
    "\n",
    "s = knn.predict(train2)\n",
    "print (accuracy_score(s, train_label))\n",
    "\n",
    "t = knn.predict(train3)\n",
    "result_knn = pd.concat([pd.DataFrame(data=t,columns =['Survived']),\n",
    "    test_set['PassengerId'].to_frame()],axis=1).set_index('PassengerId')\\\n",
    "    .astype('int64')\n",
    "#res2 = np.hstack([res2, np.array(result_knn)])\n",
    "result_knn.to_csv('knn.csv')"
   ]
  },
  {
   "cell_type": "code",
   "execution_count": 54,
   "metadata": {},
   "outputs": [
    {
     "name": "stdout",
     "output_type": "stream",
     "text": [
      "Scores: [0.86666667 0.9        0.78651685 0.85393258 0.91011236 0.88764045\n",
      " 0.8988764  0.85393258 0.8988764  0.875     ]\n",
      "Mean: 0.8731554307116104\n",
      "Standard deviation: 0.0345111335271843\n"
     ]
    }
   ],
   "source": [
    "scores = cross_val_score(knn, train2, train_label,\n",
    "     scoring=\"accuracy\", cv=10)\n",
    "\n",
    "display_scores(scores)"
   ]
  },
  {
   "cell_type": "code",
   "execution_count": 55,
   "metadata": {},
   "outputs": [
    {
     "data": {
      "text/plain": [
       "array([[503,  46],\n",
       "       [ 67, 275]], dtype=int64)"
      ]
     },
     "execution_count": 55,
     "metadata": {},
     "output_type": "execute_result"
    }
   ],
   "source": [
    "y_train_pred = cross_val_predict(knn, train2, train_label, cv=10)\n",
    "conf_mx = confusion_matrix(train_label, y_train_pred)\n",
    "conf_mx"
   ]
  },
  {
   "cell_type": "code",
   "execution_count": 56,
   "metadata": {},
   "outputs": [
    {
     "name": "stdout",
     "output_type": "stream",
     "text": [
      "0.8765432098765432\n"
     ]
    }
   ],
   "source": [
    "svwm=svm.SVC(C= 35938.0, gamma= 0.000562)\n",
    "#svwm=svm.SVC()\n",
    "svwm.fit(train2, train_label)\n",
    "\n",
    "s = svwm.predict(train2)\n",
    "print (accuracy_score(s, train_label))\n",
    "\n",
    "t = svwm.predict(train3)\n",
    "\n",
    "result_svn = pd.concat([pd.DataFrame(data=t,columns =['Survived']),\n",
    "    test_set['PassengerId'].to_frame()],axis=1).set_index('PassengerId')\\\n",
    "    .astype('int64')\n",
    "res2 = np.hstack([res2, np.array(result_svn)])\n",
    "\n",
    "result_svn.to_csv('svn.csv')"
   ]
  },
  {
   "cell_type": "code",
   "execution_count": 57,
   "metadata": {},
   "outputs": [
    {
     "name": "stdout",
     "output_type": "stream",
     "text": [
      "Scores: [0.88888889 0.9        0.83146067 0.8988764  0.8988764  0.85393258\n",
      " 0.86516854 0.83146067 0.8988764  0.85227273]\n",
      "Mean: 0.8719813301554874\n",
      "Standard deviation: 0.026991468972324288\n"
     ]
    }
   ],
   "source": [
    "scores = cross_val_score(svwm, train2, train_label,\n",
    "     scoring=\"accuracy\", cv=10)\n",
    "\n",
    "display_scores(scores)"
   ]
  },
  {
   "cell_type": "code",
   "execution_count": 58,
   "metadata": {},
   "outputs": [
    {
     "data": {
      "text/plain": [
       "array([[512,  37],\n",
       "       [ 77, 265]], dtype=int64)"
      ]
     },
     "execution_count": 58,
     "metadata": {},
     "output_type": "execute_result"
    }
   ],
   "source": [
    "y_train_pred = cross_val_predict(svwm, train2, train_label, cv=10)\n",
    "conf_mx = confusion_matrix(train_label, y_train_pred)\n",
    "conf_mx"
   ]
  },
  {
   "cell_type": "code",
   "execution_count": 59,
   "metadata": {},
   "outputs": [],
   "source": [
    "#plt.matshow(conf_mx, cmap=plt.cm.gray)\n",
    "#plt.show()"
   ]
  },
  {
   "cell_type": "code",
   "execution_count": 60,
   "metadata": {},
   "outputs": [
    {
     "data": {
      "text/plain": [
       "(0.8774834437086093, 0.7748538011695907, 0.8229813664596273)"
      ]
     },
     "execution_count": 60,
     "metadata": {},
     "output_type": "execute_result"
    }
   ],
   "source": [
    "precision_score(train_label, y_train_pred), recall_score(train_label, y_train_pred), f1_score(train_label, y_train_pred)"
   ]
  },
  {
   "cell_type": "code",
   "execution_count": 61,
   "metadata": {},
   "outputs": [],
   "source": [
    "y_train_pred = cross_val_predict(svwm, train2, train_label, cv=5,method=\"decision_function\")"
   ]
  },
  {
   "cell_type": "code",
   "execution_count": 62,
   "metadata": {},
   "outputs": [
    {
     "data": {
      "image/png": "[encoded data removed]",
      "text/plain": [
       "<matplotlib.figure.Figure at 0x2122d9478d0>"
      ]
     },
     "metadata": {},
     "output_type": "display_data"
    }
   ],
   "source": [
    "precisions, recalls, thresholds = precision_recall_curve(train_label, y_train_pred)\n",
    "plot_precision_recall_vs_threshold(precisions, recalls, thresholds)\n",
    "plt.show()"
   ]
  },
  {
   "cell_type": "code",
   "execution_count": 63,
   "metadata": {},
   "outputs": [
    {
     "data": {
      "image/png": "[encoded data removed]",
      "text/plain": [
       "<matplotlib.figure.Figure at 0x2122dab9198>"
      ]
     },
     "metadata": {},
     "output_type": "display_data"
    },
    {
     "data": {
      "text/plain": [
       "0.9019109705045858"
      ]
     },
     "execution_count": 63,
     "metadata": {},
     "output_type": "execute_result"
    }
   ],
   "source": [
    "fpr, tpr, thresholds = roc_curve(train_label, y_train_pred)\n",
    "plot_roc_curve(fpr, tpr)\n",
    "plt.show()\n",
    "roc_auc_score(train_label, y_train_pred)"
   ]
  },
  {
   "cell_type": "markdown",
   "metadata": {},
   "source": [
    "C_range = np.logspace(-2, 10, 5)\n",
    "gamma_range = np.logspace(-9, 3, 4)\n",
    "param_grid = dict(gamma=gamma_range, C=C_range)\n",
    "cv = StratifiedShuffleSplit(n_splits=5, test_size=0.2, random_state=42)\n",
    "grid = GridSearchCV(svm.SVC(), param_grid=param_grid, cv=cv)\n",
    "grid.fit(train2, train_label)\n",
    "\n",
    "print(\"The best parameters are %s with a score of %0.2f\"\n",
    "      % (grid.best_params_, grid.best_score_))"
   ]
  },
  {
   "cell_type": "code",
   "execution_count": 64,
   "metadata": {},
   "outputs": [
    {
     "data": {
      "text/plain": [
       "array([1.e-09, 1.e+03])"
      ]
     },
     "execution_count": 64,
     "metadata": {},
     "output_type": "execute_result"
    }
   ],
   "source": [
    "np.logspace(-9, 3, 2)"
   ]
  },
  {
   "cell_type": "markdown",
   "metadata": {},
   "source": [
    "##GRID SEARCH\n",
    "\n",
    "param_grid = [\n",
    "    {'n_estimators': [300, 500, 700], 'max_features': [2, 4, 6, 8]},\n",
    "    {'bootstrap': [False], 'n_estimators': [3, 10], 'max_features': [2, 3, 4]},\n",
    "  ]\n",
    "forest_reg = RandomForestRegressor()\n",
    "\n",
    "grid_search = GridSearchCV(forest_reg, param_grid, cv=5,\n",
    "                           scoring='neg_mean_squared_error')\n",
    "\n",
    "grid_search.fit(train2, train_label)\n",
    "\n",
    "print (grid_search.best_params_)\n",
    "print (grid_search.best_estimator_)\n"
   ]
  },
  {
   "cell_type": "code",
   "execution_count": 65,
   "metadata": {},
   "outputs": [],
   "source": [
    "#np.logspace(-2, 10, 5)"
   ]
  },
  {
   "cell_type": "code",
   "execution_count": 66,
   "metadata": {},
   "outputs": [
    {
     "name": "stdout",
     "output_type": "stream",
     "text": [
      "0.9304152637485971\n"
     ]
    },
    {
     "name": "stderr",
     "output_type": "stream",
     "text": [
      "C:\\anaconda\\lib\\site-packages\\sklearn\\preprocessing\\label.py:151: DeprecationWarning: The truth value of an empty array is ambiguous. Returning False, but in future this will result in an error. Use `array.size > 0` to check that an array is not empty.\n",
      "  if diff:\n",
      "C:\\anaconda\\lib\\site-packages\\sklearn\\preprocessing\\label.py:151: DeprecationWarning: The truth value of an empty array is ambiguous. Returning False, but in future this will result in an error. Use `array.size > 0` to check that an array is not empty.\n",
      "  if diff:\n"
     ]
    }
   ],
   "source": [
    "gbm = xgb.XGBClassifier(max_depth=3, n_estimators=300, learning_rate=0.1).fit(train2, train_label)\n",
    "\n",
    "s = gbm.predict(train2)\n",
    "\n",
    "print (accuracy_score(s, train_label))\n",
    "\n",
    "t = gbm.predict(train3)\n",
    "\n",
    "result_xgb = pd.concat([pd.DataFrame(data=t,columns =['Survived']),\n",
    "    test_set['PassengerId'].to_frame()],axis=1).set_index('PassengerId')\\\n",
    "    .astype('int64')\n",
    "    \n",
    "    \n",
    "#res2 = np.hstack([res2, np.array(result_xgb)])\n",
    "\n",
    "result_xgb.to_csv('xgb.csv')"
   ]
  },
  {
   "cell_type": "code",
   "execution_count": 67,
   "metadata": {},
   "outputs": [
    {
     "name": "stderr",
     "output_type": "stream",
     "text": [
      "C:\\anaconda\\lib\\site-packages\\sklearn\\preprocessing\\label.py:151: DeprecationWarning: The truth value of an empty array is ambiguous. Returning False, but in future this will result in an error. Use `array.size > 0` to check that an array is not empty.\n",
      "  if diff:\n",
      "C:\\anaconda\\lib\\site-packages\\sklearn\\preprocessing\\label.py:151: DeprecationWarning: The truth value of an empty array is ambiguous. Returning False, but in future this will result in an error. Use `array.size > 0` to check that an array is not empty.\n",
      "  if diff:\n",
      "C:\\anaconda\\lib\\site-packages\\sklearn\\preprocessing\\label.py:151: DeprecationWarning: The truth value of an empty array is ambiguous. Returning False, but in future this will result in an error. Use `array.size > 0` to check that an array is not empty.\n",
      "  if diff:\n",
      "C:\\anaconda\\lib\\site-packages\\sklearn\\preprocessing\\label.py:151: DeprecationWarning: The truth value of an empty array is ambiguous. Returning False, but in future this will result in an error. Use `array.size > 0` to check that an array is not empty.\n",
      "  if diff:\n",
      "C:\\anaconda\\lib\\site-packages\\sklearn\\preprocessing\\label.py:151: DeprecationWarning: The truth value of an empty array is ambiguous. Returning False, but in future this will result in an error. Use `array.size > 0` to check that an array is not empty.\n",
      "  if diff:\n",
      "C:\\anaconda\\lib\\site-packages\\sklearn\\preprocessing\\label.py:151: DeprecationWarning: The truth value of an empty array is ambiguous. Returning False, but in future this will result in an error. Use `array.size > 0` to check that an array is not empty.\n",
      "  if diff:\n",
      "C:\\anaconda\\lib\\site-packages\\sklearn\\preprocessing\\label.py:151: DeprecationWarning: The truth value of an empty array is ambiguous. Returning False, but in future this will result in an error. Use `array.size > 0` to check that an array is not empty.\n",
      "  if diff:\n",
      "C:\\anaconda\\lib\\site-packages\\sklearn\\preprocessing\\label.py:151: DeprecationWarning: The truth value of an empty array is ambiguous. Returning False, but in future this will result in an error. Use `array.size > 0` to check that an array is not empty.\n",
      "  if diff:\n",
      "C:\\anaconda\\lib\\site-packages\\sklearn\\preprocessing\\label.py:151: DeprecationWarning: The truth value of an empty array is ambiguous. Returning False, but in future this will result in an error. Use `array.size > 0` to check that an array is not empty.\n",
      "  if diff:\n"
     ]
    },
    {
     "name": "stdout",
     "output_type": "stream",
     "text": [
      "Scores: [0.9        0.88888889 0.82022472 0.8988764  0.93258427 0.88764045\n",
      " 0.91011236 0.83146067 0.8988764  0.88636364]\n",
      "Mean: 0.8855027806151401\n",
      "Standard deviation: 0.0325403226825441\n"
     ]
    },
    {
     "name": "stderr",
     "output_type": "stream",
     "text": [
      "C:\\anaconda\\lib\\site-packages\\sklearn\\preprocessing\\label.py:151: DeprecationWarning: The truth value of an empty array is ambiguous. Returning False, but in future this will result in an error. Use `array.size > 0` to check that an array is not empty.\n",
      "  if diff:\n"
     ]
    }
   ],
   "source": [
    "scores = cross_val_score(gbm, train2, train_label,\n",
    "     scoring=\"accuracy\", cv=10)\n",
    "\n",
    "display_scores(scores)"
   ]
  },
  {
   "cell_type": "code",
   "execution_count": 68,
   "metadata": {},
   "outputs": [
    {
     "name": "stderr",
     "output_type": "stream",
     "text": [
      "C:\\anaconda\\lib\\site-packages\\sklearn\\preprocessing\\label.py:151: DeprecationWarning: The truth value of an empty array is ambiguous. Returning False, but in future this will result in an error. Use `array.size > 0` to check that an array is not empty.\n",
      "  if diff:\n",
      "C:\\anaconda\\lib\\site-packages\\sklearn\\preprocessing\\label.py:151: DeprecationWarning: The truth value of an empty array is ambiguous. Returning False, but in future this will result in an error. Use `array.size > 0` to check that an array is not empty.\n",
      "  if diff:\n",
      "C:\\anaconda\\lib\\site-packages\\sklearn\\preprocessing\\label.py:151: DeprecationWarning: The truth value of an empty array is ambiguous. Returning False, but in future this will result in an error. Use `array.size > 0` to check that an array is not empty.\n",
      "  if diff:\n",
      "C:\\anaconda\\lib\\site-packages\\sklearn\\preprocessing\\label.py:151: DeprecationWarning: The truth value of an empty array is ambiguous. Returning False, but in future this will result in an error. Use `array.size > 0` to check that an array is not empty.\n",
      "  if diff:\n",
      "C:\\anaconda\\lib\\site-packages\\sklearn\\preprocessing\\label.py:151: DeprecationWarning: The truth value of an empty array is ambiguous. Returning False, but in future this will result in an error. Use `array.size > 0` to check that an array is not empty.\n",
      "  if diff:\n",
      "C:\\anaconda\\lib\\site-packages\\sklearn\\preprocessing\\label.py:151: DeprecationWarning: The truth value of an empty array is ambiguous. Returning False, but in future this will result in an error. Use `array.size > 0` to check that an array is not empty.\n",
      "  if diff:\n",
      "C:\\anaconda\\lib\\site-packages\\sklearn\\preprocessing\\label.py:151: DeprecationWarning: The truth value of an empty array is ambiguous. Returning False, but in future this will result in an error. Use `array.size > 0` to check that an array is not empty.\n",
      "  if diff:\n",
      "C:\\anaconda\\lib\\site-packages\\sklearn\\preprocessing\\label.py:151: DeprecationWarning: The truth value of an empty array is ambiguous. Returning False, but in future this will result in an error. Use `array.size > 0` to check that an array is not empty.\n",
      "  if diff:\n",
      "C:\\anaconda\\lib\\site-packages\\sklearn\\preprocessing\\label.py:151: DeprecationWarning: The truth value of an empty array is ambiguous. Returning False, but in future this will result in an error. Use `array.size > 0` to check that an array is not empty.\n",
      "  if diff:\n",
      "C:\\anaconda\\lib\\site-packages\\sklearn\\preprocessing\\label.py:151: DeprecationWarning: The truth value of an empty array is ambiguous. Returning False, but in future this will result in an error. Use `array.size > 0` to check that an array is not empty.\n",
      "  if diff:\n"
     ]
    },
    {
     "data": {
      "text/plain": [
       "array([[511,  38],\n",
       "       [ 64, 278]], dtype=int64)"
      ]
     },
     "execution_count": 68,
     "metadata": {},
     "output_type": "execute_result"
    }
   ],
   "source": [
    "y_train_pred = cross_val_predict(gbm, train2, train_label, cv=10)\n",
    "conf_mx = confusion_matrix(train_label, y_train_pred)\n",
    "conf_mx"
   ]
  },
  {
   "cell_type": "code",
   "execution_count": 69,
   "metadata": {},
   "outputs": [],
   "source": [
    "soma = np.sum(res2, axis=1)\n",
    "resultado_final_1 = (soma > 1)*1\n",
    "#print (resultado_final_1)\n",
    "result_final = pd.concat([pd.DataFrame(data=resultado_final_1,columns =['Survived']),\n",
    "    test_set['PassengerId'].to_frame()],axis=1).set_index('PassengerId')\\\n",
    "    .astype('int64')\n",
    "\n",
    "result_final.to_csv('result_final.csv')"
   ]
  },
  {
   "cell_type": "code",
   "execution_count": null,
   "metadata": {},
   "outputs": [],
   "source": []
  },
  {
   "cell_type": "code",
   "execution_count": null,
   "metadata": {},
   "outputs": [],
   "source": []
  },
  {
   "cell_type": "code",
   "execution_count": null,
   "metadata": {},
   "outputs": [],
   "source": []
  },
  {
   "cell_type": "code",
   "execution_count": null,
   "metadata": {},
   "outputs": [],
   "source": []
  }
 ],
 "metadata": {
  "kernelspec": {
   "display_name": "Python 3",
   "language": "python",
   "name": "python3"
  },
  "language_info": {
   "codemirror_mode": {
    "name": "ipython",
    "version": 3
   },
   "file_extension": ".py",
   "mimetype": "text/x-python",
   "name": "python",
   "nbconvert_exporter": "python",
   "pygments_lexer": "ipython3",
   "version": "3.6.5"
  }
 },
 "nbformat": 4,
 "nbformat_minor": 2
}
